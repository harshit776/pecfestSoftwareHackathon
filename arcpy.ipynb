{
 "cells": [
  {
   "cell_type": "code",
   "execution_count": 24,
   "metadata": {},
   "outputs": [],
   "source": [
    "import os\n",
    "import arcpy\n",
    "import arcgis\n",
    "from arcpy import env"
   ]
  },
  {
   "cell_type": "code",
   "execution_count": 25,
   "metadata": {},
   "outputs": [],
   "source": [
    "data_loc = \"F:\\SEM 7 MAJOR\\Statellite data\\sentinel_2\\\\test_data\\S2A_MSIL1C_20170324T053641_N0204_R005_T43SEU_20170324T053848.SAFE\\GRANULE\\L1C_T43SEU_A009154_20170324T053848\\IMG_DATA\"\n",
    "clip_loc = data_loc + \"\\\\clip\"\n",
    "tiff_loc = data_loc + \"\\\\tiff_data\"\n",
    "composite_loc = data_loc + \"\\\\composite\"\n",
    "\n",
    "clip_file_loc = clip_loc + \"\\\\clip.tif\"\n",
    "composite_band = composite_loc + \"\\\\compbands.tif\"\n",
    "shape_file_loc = \"F:\\SEM 7 MAJOR\\capstone\\\\.TUTORIAL_TAMANNA\\shape file\\sent2_sub2403.shp\""
   ]
  },
  {
   "cell_type": "code",
   "execution_count": 26,
   "metadata": {},
   "outputs": [],
   "source": [
    "if not os.path.exists(tiff_loc):\n",
    "    os.makedirs(tiff_loc)\n",
    "\n",
    "if not os.path.exists(composite_loc):\n",
    "    os.makedirs(composite_loc)\n",
    "\n",
    "if not os.path.exists(clip_loc):\n",
    "    os.makedirs(clip_loc)"
   ]
  },
  {
   "cell_type": "code",
   "execution_count": 27,
   "metadata": {},
   "outputs": [],
   "source": [
    "band_2 = \"T43SEU_20170324T053641_B02.jp2\"\n",
    "band_3 = \"T43SEU_20170324T053641_B03.jp2\"\n",
    "band_4 = \"T43SEU_20170324T053641_B04.jp2\"\n",
    "band_8 = \"T43SEU_20170324T053641_B08.jp2\""
   ]
  },
  {
   "cell_type": "code",
   "execution_count": 40,
   "metadata": {},
   "outputs": [],
   "source": [
    "jp2_string = band_2 + \";\" + band_3 + \";\" + band_4 + \";\" + band_8\n",
    "tif_string = band_2.split('.')[0] + \".tif;\" + band_3.split('.')[0] + \".tif;\" + band_4.split('.')[0] + \".tif;\" + band_8.split('.')[0] + \".tif\""
   ]
  },
  {
   "cell_type": "code",
   "execution_count": 42,
   "metadata": {},
   "outputs": [],
   "source": [
    "# tif_string"
   ]
  },
  {
   "cell_type": "code",
   "execution_count": 43,
   "metadata": {},
   "outputs": [
    {
     "data": {
      "text/plain": [
       "<Result 'F:\\\\SEM 7 MAJOR\\\\Statellite data\\\\sentinel_2\\\\test_data\\\\S2A_MSIL1C_20170324T053641_N0204_R005_T43SEU_20170324T053848.SAFE\\\\GRANULE\\\\L1C_T43SEU_A009154_20170324T053848\\\\IMG_DATA\\\\tiff_data'>"
      ]
     },
     "execution_count": 43,
     "metadata": {},
     "output_type": "execute_result"
    }
   ],
   "source": [
    "env.workspace = data_loc\n",
    "arcpy.RasterToOtherFormat_conversion(jp2_string, tiff_loc,\"TIFF\")"
   ]
  },
  {
   "cell_type": "code",
   "execution_count": 44,
   "metadata": {},
   "outputs": [
    {
     "data": {
      "text/plain": [
       "<Result 'F:\\\\SEM 7 MAJOR\\\\Statellite data\\\\sentinel_2\\\\test_data\\\\S2A_MSIL1C_20170324T053641_N0204_R005_T43SEU_20170324T053848.SAFE\\\\GRANULE\\\\L1C_T43SEU_A009154_20170324T053848\\\\IMG_DATA\\\\composite\\\\compbands.tif'>"
      ]
     },
     "execution_count": 44,
     "metadata": {},
     "output_type": "execute_result"
    }
   ],
   "source": [
    "env.workspace = tiff_loc\n",
    "arcpy.CompositeBands_management(tif_string,composite_band)"
   ]
  },
  {
   "cell_type": "code",
   "execution_count": 45,
   "metadata": {},
   "outputs": [
    {
     "data": {
      "text/plain": [
       "<Result 'F:\\\\SEM 7 MAJOR\\\\Statellite data\\\\sentinel_2\\\\test_data\\\\S2A_MSIL1C_20170324T053641_N0204_R005_T43SEU_20170324T053848.SAFE\\\\GRANULE\\\\L1C_T43SEU_A009154_20170324T053848\\\\IMG_DATA\\\\clip\\\\clip.tif'>"
      ]
     },
     "execution_count": 45,
     "metadata": {},
     "output_type": "execute_result"
    }
   ],
   "source": [
    "env.workspace = composite_loc\n",
    "arcpy.Clip_management(\"compbands.tif\", \"#\", clip_file_loc, shape_file_loc, \"0\", \"ClippingGeometry\")"
   ]
  },
  {
   "cell_type": "code",
   "execution_count": null,
   "metadata": {},
   "outputs": [],
   "source": []
  }
 ],
 "metadata": {
  "kernelspec": {
   "display_name": "Python 2",
   "language": "python",
   "name": "python2"
  },
  "language_info": {
   "codemirror_mode": {
    "name": "ipython",
    "version": 2
   },
   "file_extension": ".py",
   "mimetype": "text/x-python",
   "name": "python",
   "nbconvert_exporter": "python",
   "pygments_lexer": "ipython2",
   "version": "2.7.12"
  }
 },
 "nbformat": 4,
 "nbformat_minor": 4
}
