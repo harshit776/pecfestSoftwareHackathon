{
 "cells": [
  {
   "cell_type": "code",
   "execution_count": 1,
   "metadata": {},
   "outputs": [
    {
     "name": "stderr",
     "output_type": "stream",
     "text": [
      "Using TensorFlow backend.\n"
     ]
    }
   ],
   "source": [
    "import numpy as np\n",
    "import rasterio\n",
    "from os import listdir\n",
    "import keras\n",
    "from keras.utils import np_utils\n",
    "from keras.models import Sequential\n",
    "from sklearn.model_selection import train_test_split\n",
    "from keras.layers import Dense, Dropout, Conv2D, MaxPool2D, Flatten, LeakyReLU\n",
    "import matplotlib.pyplot as plt\n",
    "from keras.optimizers import adam\n",
    "from sklearn.metrics import confusion_matrix\n",
    "from sklearn.metrics import accuracy_score\n",
    "import tensorflow as tf"
   ]
  },
  {
   "cell_type": "code",
   "execution_count": 2,
   "metadata": {},
   "outputs": [],
   "source": [
    "extension = \"tif\"\n",
    "aval_images_path = [\"images/aval_images\", \"28112020/data1/aval_134\", \"28112020/data3/images/aval_043\"]\n",
    "non_aval_images_path = [\"images/noaval_images\", \"28112020/Data1/noaval_134\", \"28112020/data3/images/no aval_043/images\"]\n",
    "total_aval_files = 0\n",
    "total_non_aval_files = 0\n",
    "row_length = 170\n",
    "column_length = 130"
   ]
  },
  {
   "cell_type": "code",
   "execution_count": 3,
   "metadata": {},
   "outputs": [],
   "source": [
    "# temp = \"images/noaval_images/N1.tif\"\n",
    "# dataset = rasterio.open(temp)\n",
    "# # dataset.index"
   ]
  },
  {
   "cell_type": "code",
   "execution_count": 4,
   "metadata": {},
   "outputs": [],
   "source": [
    "final_dataset = []"
   ]
  },
  {
   "cell_type": "code",
   "execution_count": 5,
   "metadata": {},
   "outputs": [],
   "source": [
    "def change_shape(band_array):\n",
    "    temp = np.zeros((row_length, column_length))\n",
    "    row = band_array.shape[0]\n",
    "    col = band_array.shape[1]\n",
    "    temp[:row,:col] = band_array\n",
    "    return temp"
   ]
  },
  {
   "cell_type": "code",
   "execution_count": 6,
   "metadata": {},
   "outputs": [],
   "source": [
    "def band_extract(dataset):\n",
    "    \n",
    "    band_array = []\n",
    "    \n",
    "    for i in range(1,5):\n",
    "        band = dataset.read(i)\n",
    "        band = np.array(band)\n",
    "        band = change_shape(band)\n",
    "        band_array.append(band)\n",
    "    \n",
    "    return band_array"
   ]
  },
  {
   "cell_type": "code",
   "execution_count": 7,
   "metadata": {},
   "outputs": [],
   "source": [
    "for aval_image_path in aval_images_path:\n",
    "    for file in listdir(aval_image_path):\n",
    "        if file.endswith('.' + extension):\n",
    "            total_aval_files += 1\n",
    "            imageio\n",
    "            #print(file_path)\n",
    "            dataset = rasterio.open(file_path)\n",
    "            band_array = band_extract(dataset)\n",
    "            band_array = np.array(band_array)\n",
    "    #         band_array = change_shape(band_array)\n",
    "    #         print(band_array.shape)\n",
    "            final_dataset.append(band_array)"
   ]
  },
  {
   "cell_type": "code",
   "execution_count": 8,
   "metadata": {},
   "outputs": [],
   "source": [
    "for non_aval_image_path in non_aval_images_path:\n",
    "    for file in listdir(non_aval_image_path):\n",
    "        if file.endswith('.' + extension):\n",
    "            total_non_aval_files += 1\n",
    "            file_path = non_aval_image_path + \"/\" + file\n",
    "            #print(file_path)\n",
    "            dataset = rasterio.open(file_path)\n",
    "            band_array = band_extract(dataset)\n",
    "            band_array = np.array(band_array)\n",
    "            final_dataset.append(band_array)"
   ]
  },
  {
   "cell_type": "code",
   "execution_count": 9,
   "metadata": {},
   "outputs": [],
   "source": [
    "final_dataset = np.array(final_dataset)\n",
    "final_dataset[final_dataset < 0] = 0"
   ]
  },
  {
   "cell_type": "code",
   "execution_count": 10,
   "metadata": {},
   "outputs": [],
   "source": [
    "max_val = np.max(final_dataset)"
   ]
  },
  {
   "cell_type": "code",
   "execution_count": 11,
   "metadata": {},
   "outputs": [],
   "source": [
    "final_val=[]\n",
    "one = [1]\n",
    "zero = [0]\n",
    "\n",
    "for i in range(0,total_aval_files):\n",
    "    final_val.append(one)\n",
    "\n",
    "for i in range(0,total_non_aval_files):\n",
    "    final_val.append(zero)"
   ]
  },
  {
   "cell_type": "code",
   "execution_count": 12,
   "metadata": {},
   "outputs": [],
   "source": [
    "X_data = np.array(final_dataset)\n",
    "Y_data = np.array(final_val)"
   ]
  },
  {
   "cell_type": "code",
   "execution_count": 13,
   "metadata": {},
   "outputs": [],
   "source": [
    "X_data = X_data / max_val"
   ]
  },
  {
   "cell_type": "code",
   "execution_count": 14,
   "metadata": {},
   "outputs": [],
   "source": [
    "x_train, x_test, y_train, y_test = train_test_split(X_data, Y_data)"
   ]
  },
  {
   "cell_type": "code",
   "execution_count": 15,
   "metadata": {},
   "outputs": [],
   "source": [
    "n_classes = 2\n",
    "y_train = np_utils.to_categorical(y_train, n_classes)\n",
    "y_test = np_utils.to_categorical(y_test, n_classes)"
   ]
  },
  {
   "cell_type": "code",
   "execution_count": 16,
   "metadata": {},
   "outputs": [],
   "source": [
    "model = Sequential()"
   ]
  },
  {
   "cell_type": "code",
   "execution_count": 17,
   "metadata": {},
   "outputs": [],
   "source": [
    "model.add(Conv2D(50, kernel_size=(3,3), strides=(1,1), padding='same', activation='relu', input_shape=(4, row_length, column_length)))"
   ]
  },
  {
   "cell_type": "code",
   "execution_count": 18,
   "metadata": {},
   "outputs": [],
   "source": [
    "# convolutional layer\n",
    "model.add(Conv2D(75, kernel_size=(3,3), strides=(1,1), padding='same', activation='relu'))\n",
    "model.add(MaxPool2D(pool_size=(2,2)))\n",
    "model.add(Dropout(0.35))"
   ]
  },
  {
   "cell_type": "code",
   "execution_count": 19,
   "metadata": {},
   "outputs": [],
   "source": [
    "model.add(Conv2D(125, kernel_size=(3,3), strides=(1,1), padding='same', activation='relu'))\n",
    "model.add(MaxPool2D(pool_size=(2,2)))\n",
    "model.add(Dropout(0.35))"
   ]
  },
  {
   "cell_type": "code",
   "execution_count": 20,
   "metadata": {},
   "outputs": [],
   "source": [
    "# flatten output of conv\n",
    "model.add(Flatten())\n",
    "\n",
    "# hidden layer\n",
    "model.add(Dense(500, activation='relu'))\n",
    "model.add(Dropout(0.5))\n",
    "# model.add(Dense(250, activation='relu'))\n",
    "# model.add(Dropout(0.5))\n",
    "model.add(LeakyReLU(alpha=0.01))\n",
    "# output layer\n",
    "model.add(Dense(n_classes, activation='softmax'))"
   ]
  },
  {
   "cell_type": "code",
   "execution_count": 21,
   "metadata": {},
   "outputs": [],
   "source": [
    "learning_rate = 0.001\n",
    "epochs = 200\n",
    "decay_rate = learning_rate / epochs\n",
    "momentum = 0.8"
   ]
  },
  {
   "cell_type": "code",
   "execution_count": 22,
   "metadata": {},
   "outputs": [
    {
     "name": "stdout",
     "output_type": "stream",
     "text": [
      "Train on 105 samples, validate on 35 samples\n",
      "Epoch 1/200\n",
      "105/105 [==============================] - 1s 5ms/step - loss: 0.7133 - accuracy: 0.4952 - val_loss: 0.5814 - val_accuracy: 0.6286\n",
      "Epoch 2/200\n",
      "105/105 [==============================] - 0s 3ms/step - loss: 0.6411 - accuracy: 0.5619 - val_loss: 0.5386 - val_accuracy: 0.6286\n",
      "Epoch 3/200\n",
      "105/105 [==============================] - 0s 3ms/step - loss: 0.6039 - accuracy: 0.6190 - val_loss: 0.5004 - val_accuracy: 0.6286\n",
      "Epoch 4/200\n",
      "105/105 [==============================] - 0s 3ms/step - loss: 0.5909 - accuracy: 0.6286 - val_loss: 0.4812 - val_accuracy: 0.6286\n",
      "Epoch 5/200\n",
      "105/105 [==============================] - 0s 3ms/step - loss: 0.6015 - accuracy: 0.6286 - val_loss: 0.5043 - val_accuracy: 0.6286\n",
      "Epoch 6/200\n",
      "105/105 [==============================] - 0s 3ms/step - loss: 0.5773 - accuracy: 0.6190 - val_loss: 0.5310 - val_accuracy: 0.6286\n",
      "Epoch 7/200\n",
      "105/105 [==============================] - 0s 3ms/step - loss: 0.5616 - accuracy: 0.6286 - val_loss: 0.5614 - val_accuracy: 0.6286\n",
      "Epoch 8/200\n",
      "105/105 [==============================] - 0s 3ms/step - loss: 0.5499 - accuracy: 0.6476 - val_loss: 0.5695 - val_accuracy: 0.6286\n",
      "Epoch 9/200\n",
      "105/105 [==============================] - 0s 3ms/step - loss: 0.5455 - accuracy: 0.6571 - val_loss: 0.5517 - val_accuracy: 0.6286\n",
      "Epoch 10/200\n",
      "105/105 [==============================] - 0s 3ms/step - loss: 0.5411 - accuracy: 0.6381 - val_loss: 0.5241 - val_accuracy: 0.6286\n",
      "Epoch 11/200\n",
      "105/105 [==============================] - 0s 3ms/step - loss: 0.5196 - accuracy: 0.6476 - val_loss: 0.5056 - val_accuracy: 0.6000\n",
      "Epoch 12/200\n",
      "105/105 [==============================] - 0s 3ms/step - loss: 0.5070 - accuracy: 0.6667 - val_loss: 0.4997 - val_accuracy: 0.6000\n",
      "Epoch 13/200\n",
      "105/105 [==============================] - 0s 3ms/step - loss: 0.5022 - accuracy: 0.6667 - val_loss: 0.4967 - val_accuracy: 0.6000\n",
      "Epoch 14/200\n",
      "105/105 [==============================] - 0s 3ms/step - loss: 0.5120 - accuracy: 0.6571 - val_loss: 0.4867 - val_accuracy: 0.6000\n",
      "Epoch 15/200\n",
      "105/105 [==============================] - 0s 3ms/step - loss: 0.4951 - accuracy: 0.6667 - val_loss: 0.4904 - val_accuracy: 0.6000\n",
      "Epoch 16/200\n",
      "105/105 [==============================] - 0s 3ms/step - loss: 0.4954 - accuracy: 0.6667 - val_loss: 0.4925 - val_accuracy: 0.6000\n",
      "Epoch 17/200\n",
      "105/105 [==============================] - 0s 3ms/step - loss: 0.4929 - accuracy: 0.6571 - val_loss: 0.4918 - val_accuracy: 0.6286\n",
      "Epoch 18/200\n",
      "105/105 [==============================] - 0s 3ms/step - loss: 0.4826 - accuracy: 0.6667 - val_loss: 0.5007 - val_accuracy: 0.6000\n",
      "Epoch 19/200\n",
      "105/105 [==============================] - 0s 3ms/step - loss: 0.4829 - accuracy: 0.6667 - val_loss: 0.5227 - val_accuracy: 0.6000\n",
      "Epoch 20/200\n",
      "105/105 [==============================] - 0s 3ms/step - loss: 0.4809 - accuracy: 0.6667 - val_loss: 0.5618 - val_accuracy: 0.6000\n",
      "Epoch 21/200\n",
      "105/105 [==============================] - 0s 3ms/step - loss: 0.4927 - accuracy: 0.6667 - val_loss: 0.5161 - val_accuracy: 0.6000\n",
      "Epoch 22/200\n",
      "105/105 [==============================] - 0s 3ms/step - loss: 0.4820 - accuracy: 0.6762 - val_loss: 0.4771 - val_accuracy: 0.6286\n",
      "Epoch 23/200\n",
      "105/105 [==============================] - 0s 3ms/step - loss: 0.4858 - accuracy: 0.6667 - val_loss: 0.4735 - val_accuracy: 0.6286\n",
      "Epoch 24/200\n",
      "105/105 [==============================] - 0s 3ms/step - loss: 0.4810 - accuracy: 0.6762 - val_loss: 0.5148 - val_accuracy: 0.5714\n",
      "Epoch 25/200\n",
      "105/105 [==============================] - 0s 3ms/step - loss: 0.4767 - accuracy: 0.6762 - val_loss: 0.5489 - val_accuracy: 0.6000\n",
      "Epoch 26/200\n",
      "105/105 [==============================] - 0s 3ms/step - loss: 0.4808 - accuracy: 0.6667 - val_loss: 0.5398 - val_accuracy: 0.6000\n",
      "Epoch 27/200\n",
      "105/105 [==============================] - 0s 3ms/step - loss: 0.4717 - accuracy: 0.6762 - val_loss: 0.5229 - val_accuracy: 0.6000\n",
      "Epoch 28/200\n",
      "105/105 [==============================] - 0s 3ms/step - loss: 0.4714 - accuracy: 0.6762 - val_loss: 0.4869 - val_accuracy: 0.6286\n",
      "Epoch 29/200\n",
      "105/105 [==============================] - 0s 3ms/step - loss: 0.4717 - accuracy: 0.6762 - val_loss: 0.4689 - val_accuracy: 0.6286\n",
      "Epoch 30/200\n",
      "105/105 [==============================] - 0s 3ms/step - loss: 0.4698 - accuracy: 0.6667 - val_loss: 0.4587 - val_accuracy: 0.6286\n",
      "Epoch 31/200\n",
      "105/105 [==============================] - 0s 3ms/step - loss: 0.4696 - accuracy: 0.6762 - val_loss: 0.4571 - val_accuracy: 0.6286\n",
      "Epoch 32/200\n",
      "105/105 [==============================] - 0s 3ms/step - loss: 0.4685 - accuracy: 0.6952 - val_loss: 0.4639 - val_accuracy: 0.6286\n",
      "Epoch 33/200\n",
      "105/105 [==============================] - 0s 3ms/step - loss: 0.4691 - accuracy: 0.6952 - val_loss: 0.4762 - val_accuracy: 0.6000\n",
      "Epoch 34/200\n",
      "105/105 [==============================] - 0s 3ms/step - loss: 0.4685 - accuracy: 0.6952 - val_loss: 0.5036 - val_accuracy: 0.6000\n",
      "Epoch 35/200\n",
      "105/105 [==============================] - 0s 3ms/step - loss: 0.4717 - accuracy: 0.6667 - val_loss: 0.5196 - val_accuracy: 0.6000\n",
      "Epoch 36/200\n",
      "105/105 [==============================] - 0s 3ms/step - loss: 0.4695 - accuracy: 0.6667 - val_loss: 0.5474 - val_accuracy: 0.6000\n",
      "Epoch 37/200\n",
      "105/105 [==============================] - 0s 3ms/step - loss: 0.4678 - accuracy: 0.6857 - val_loss: 0.5792 - val_accuracy: 0.6000\n",
      "Epoch 38/200\n",
      "105/105 [==============================] - 0s 3ms/step - loss: 0.4670 - accuracy: 0.6857 - val_loss: 0.6108 - val_accuracy: 0.6000\n",
      "Epoch 39/200\n",
      "105/105 [==============================] - 0s 3ms/step - loss: 0.4689 - accuracy: 0.6762 - val_loss: 0.6437 - val_accuracy: 0.6000\n",
      "Epoch 40/200\n",
      "105/105 [==============================] - 0s 3ms/step - loss: 0.4696 - accuracy: 0.6762 - val_loss: 0.6789 - val_accuracy: 0.6286\n",
      "Epoch 41/200\n",
      "105/105 [==============================] - 0s 3ms/step - loss: 0.4690 - accuracy: 0.6762 - val_loss: 0.7132 - val_accuracy: 0.6286\n",
      "Epoch 42/200\n",
      "105/105 [==============================] - 0s 3ms/step - loss: 0.4663 - accuracy: 0.6857 - val_loss: 0.7450 - val_accuracy: 0.6286\n",
      "Epoch 43/200\n",
      "105/105 [==============================] - 0s 3ms/step - loss: 0.4669 - accuracy: 0.6762 - val_loss: 0.7640 - val_accuracy: 0.6286\n",
      "Epoch 44/200\n",
      "105/105 [==============================] - 0s 3ms/step - loss: 0.4672 - accuracy: 0.6762 - val_loss: 0.7804 - val_accuracy: 0.6286\n",
      "Epoch 45/200\n",
      "105/105 [==============================] - 0s 3ms/step - loss: 0.4670 - accuracy: 0.6667 - val_loss: 0.7846 - val_accuracy: 0.6286\n",
      "Epoch 46/200\n",
      "105/105 [==============================] - 0s 3ms/step - loss: 0.4716 - accuracy: 0.6762 - val_loss: 0.7879 - val_accuracy: 0.6286\n",
      "Epoch 47/200\n",
      "105/105 [==============================] - 0s 3ms/step - loss: 0.4673 - accuracy: 0.6762 - val_loss: 0.7885 - val_accuracy: 0.6286\n",
      "Epoch 48/200\n",
      "105/105 [==============================] - 0s 3ms/step - loss: 0.4706 - accuracy: 0.6762 - val_loss: 0.7892 - val_accuracy: 0.6286\n",
      "Epoch 49/200\n",
      "105/105 [==============================] - 0s 3ms/step - loss: 0.4651 - accuracy: 0.6667 - val_loss: 0.7898 - val_accuracy: 0.6286\n",
      "Epoch 50/200\n",
      "105/105 [==============================] - 0s 3ms/step - loss: 0.4680 - accuracy: 0.6762 - val_loss: 0.7897 - val_accuracy: 0.6286\n",
      "Epoch 51/200\n",
      "105/105 [==============================] - 0s 3ms/step - loss: 0.4685 - accuracy: 0.6857 - val_loss: 0.7922 - val_accuracy: 0.6286\n",
      "Epoch 52/200\n",
      "105/105 [==============================] - 0s 3ms/step - loss: 0.4673 - accuracy: 0.6857 - val_loss: 0.7952 - val_accuracy: 0.6286\n",
      "Epoch 53/200\n",
      "105/105 [==============================] - 0s 3ms/step - loss: 0.4663 - accuracy: 0.6857 - val_loss: 0.7981 - val_accuracy: 0.6286\n",
      "Epoch 54/200\n",
      "105/105 [==============================] - 0s 3ms/step - loss: 0.4667 - accuracy: 0.6857 - val_loss: 0.8005 - val_accuracy: 0.6286\n",
      "Epoch 55/200\n",
      "105/105 [==============================] - 0s 3ms/step - loss: 0.4686 - accuracy: 0.6571 - val_loss: 0.8028 - val_accuracy: 0.6286\n",
      "Epoch 56/200\n",
      "105/105 [==============================] - 0s 3ms/step - loss: 0.4682 - accuracy: 0.6667 - val_loss: 0.7979 - val_accuracy: 0.6286\n",
      "Epoch 57/200\n",
      "105/105 [==============================] - 0s 3ms/step - loss: 0.4696 - accuracy: 0.6952 - val_loss: 0.7923 - val_accuracy: 0.6286\n"
     ]
    },
    {
     "name": "stdout",
     "output_type": "stream",
     "text": [
      "Epoch 58/200\n",
      "105/105 [==============================] - 0s 3ms/step - loss: 0.4716 - accuracy: 0.6762 - val_loss: 0.8779 - val_accuracy: 0.6286\n",
      "Epoch 59/200\n",
      "105/105 [==============================] - 0s 3ms/step - loss: 0.4662 - accuracy: 0.6762 - val_loss: 0.9568 - val_accuracy: 0.6286\n",
      "Epoch 60/200\n",
      "105/105 [==============================] - 0s 3ms/step - loss: 0.4692 - accuracy: 0.6762 - val_loss: 1.0299 - val_accuracy: 0.6286\n",
      "Epoch 61/200\n",
      "105/105 [==============================] - 0s 3ms/step - loss: 0.4700 - accuracy: 0.6857 - val_loss: 0.7742 - val_accuracy: 0.6000\n",
      "Epoch 62/200\n",
      "105/105 [==============================] - 0s 3ms/step - loss: 0.4694 - accuracy: 0.6571 - val_loss: 0.5457 - val_accuracy: 0.6000\n",
      "Epoch 63/200\n",
      "105/105 [==============================] - 0s 3ms/step - loss: 0.4688 - accuracy: 0.7048 - val_loss: 0.4489 - val_accuracy: 0.6571\n",
      "Epoch 64/200\n",
      "105/105 [==============================] - 0s 3ms/step - loss: 0.4678 - accuracy: 0.7048 - val_loss: 0.4486 - val_accuracy: 0.6571\n",
      "Epoch 65/200\n",
      "105/105 [==============================] - 0s 3ms/step - loss: 0.4711 - accuracy: 0.6571 - val_loss: 0.4734 - val_accuracy: 0.6286\n",
      "Epoch 66/200\n",
      "105/105 [==============================] - 0s 3ms/step - loss: 0.4706 - accuracy: 0.6667 - val_loss: 0.6089 - val_accuracy: 0.6000\n",
      "Epoch 67/200\n",
      "105/105 [==============================] - 0s 3ms/step - loss: 0.4664 - accuracy: 0.6571 - val_loss: 0.7735 - val_accuracy: 0.6000\n",
      "Epoch 68/200\n",
      "105/105 [==============================] - 0s 3ms/step - loss: 0.4691 - accuracy: 0.6667 - val_loss: 0.9238 - val_accuracy: 0.6286\n",
      "Epoch 69/200\n",
      "105/105 [==============================] - 0s 3ms/step - loss: 0.4691 - accuracy: 0.6857 - val_loss: 1.0684 - val_accuracy: 0.6000\n",
      "Epoch 70/200\n",
      "105/105 [==============================] - 0s 3ms/step - loss: 0.4682 - accuracy: 0.6857 - val_loss: 1.2092 - val_accuracy: 0.6000\n",
      "Epoch 71/200\n",
      "105/105 [==============================] - 0s 3ms/step - loss: 0.4649 - accuracy: 0.6762 - val_loss: 1.3323 - val_accuracy: 0.6000\n",
      "Epoch 72/200\n",
      "105/105 [==============================] - 0s 3ms/step - loss: 0.4668 - accuracy: 0.6762 - val_loss: 1.4403 - val_accuracy: 0.6000\n",
      "Epoch 73/200\n",
      "105/105 [==============================] - 0s 3ms/step - loss: 0.4685 - accuracy: 0.6667 - val_loss: 1.5549 - val_accuracy: 0.5714\n",
      "Epoch 74/200\n",
      "105/105 [==============================] - 0s 3ms/step - loss: 0.4713 - accuracy: 0.6762 - val_loss: 0.8710 - val_accuracy: 0.6000\n",
      "Epoch 75/200\n",
      "105/105 [==============================] - 0s 3ms/step - loss: 0.4668 - accuracy: 0.6857 - val_loss: 0.4778 - val_accuracy: 0.6286\n",
      "Epoch 76/200\n",
      "105/105 [==============================] - 0s 3ms/step - loss: 0.4682 - accuracy: 0.6762 - val_loss: 0.4960 - val_accuracy: 0.6571\n",
      "Epoch 77/200\n",
      "105/105 [==============================] - 0s 3ms/step - loss: 0.5071 - accuracy: 0.6381 - val_loss: 0.5323 - val_accuracy: 0.6286\n",
      "Epoch 78/200\n",
      "105/105 [==============================] - 0s 3ms/step - loss: 0.4677 - accuracy: 0.6857 - val_loss: 0.9115 - val_accuracy: 0.6000\n",
      "Epoch 79/200\n",
      "105/105 [==============================] - 0s 3ms/step - loss: 0.4695 - accuracy: 0.6667 - val_loss: 1.3287 - val_accuracy: 0.6000\n",
      "Epoch 80/200\n",
      "105/105 [==============================] - 0s 3ms/step - loss: 0.4672 - accuracy: 0.6571 - val_loss: 1.6864 - val_accuracy: 0.6000\n",
      "Epoch 81/200\n",
      "105/105 [==============================] - 0s 3ms/step - loss: 0.5242 - accuracy: 0.6667 - val_loss: 1.2109 - val_accuracy: 0.6000\n",
      "Epoch 82/200\n",
      "105/105 [==============================] - 0s 3ms/step - loss: 0.5123 - accuracy: 0.6667 - val_loss: 0.5156 - val_accuracy: 0.6286\n",
      "Epoch 83/200\n",
      "105/105 [==============================] - 0s 3ms/step - loss: 0.4669 - accuracy: 0.6667 - val_loss: 0.4706 - val_accuracy: 0.6571\n",
      "Epoch 84/200\n",
      "105/105 [==============================] - 0s 3ms/step - loss: 0.5067 - accuracy: 0.6571 - val_loss: 0.5208 - val_accuracy: 0.6286\n",
      "Epoch 85/200\n",
      "105/105 [==============================] - 0s 3ms/step - loss: 0.5054 - accuracy: 0.6571 - val_loss: 0.4633 - val_accuracy: 0.6571\n",
      "Epoch 86/200\n",
      "105/105 [==============================] - 0s 3ms/step - loss: 0.4988 - accuracy: 0.6571 - val_loss: 0.4424 - val_accuracy: 0.6571\n",
      "Epoch 87/200\n",
      "105/105 [==============================] - 0s 3ms/step - loss: 0.4655 - accuracy: 0.7238 - val_loss: 0.5526 - val_accuracy: 0.6000\n",
      "Epoch 88/200\n",
      "105/105 [==============================] - 0s 3ms/step - loss: 0.4644 - accuracy: 0.6952 - val_loss: 0.7154 - val_accuracy: 0.6286\n",
      "Epoch 89/200\n",
      "105/105 [==============================] - 0s 3ms/step - loss: 0.4720 - accuracy: 0.6762 - val_loss: 1.0042 - val_accuracy: 0.6000\n",
      "Epoch 90/200\n",
      "105/105 [==============================] - 0s 3ms/step - loss: 0.4750 - accuracy: 0.6762 - val_loss: 1.1987 - val_accuracy: 0.6000\n",
      "Epoch 91/200\n",
      "105/105 [==============================] - 0s 3ms/step - loss: 0.4980 - accuracy: 0.6857 - val_loss: 1.2236 - val_accuracy: 0.6000\n",
      "Epoch 92/200\n",
      "105/105 [==============================] - 0s 3ms/step - loss: 0.4746 - accuracy: 0.6857 - val_loss: 1.2051 - val_accuracy: 0.6000\n",
      "Epoch 93/200\n",
      "105/105 [==============================] - 0s 3ms/step - loss: 0.4745 - accuracy: 0.6667 - val_loss: 1.1638 - val_accuracy: 0.6000\n",
      "Epoch 94/200\n",
      "105/105 [==============================] - 0s 3ms/step - loss: 0.4728 - accuracy: 0.6762 - val_loss: 1.0363 - val_accuracy: 0.6000\n",
      "Epoch 95/200\n",
      "105/105 [==============================] - 0s 3ms/step - loss: 0.4709 - accuracy: 0.6857 - val_loss: 0.9114 - val_accuracy: 0.6000\n",
      "Epoch 96/200\n",
      "105/105 [==============================] - 0s 3ms/step - loss: 0.4652 - accuracy: 0.6952 - val_loss: 0.8006 - val_accuracy: 0.6000\n",
      "Epoch 97/200\n",
      "105/105 [==============================] - 0s 3ms/step - loss: 0.4649 - accuracy: 0.7238 - val_loss: 0.7056 - val_accuracy: 0.6000\n",
      "Epoch 98/200\n",
      "105/105 [==============================] - 0s 3ms/step - loss: 0.4695 - accuracy: 0.6857 - val_loss: 0.6270 - val_accuracy: 0.6000\n",
      "Epoch 99/200\n",
      "105/105 [==============================] - 0s 3ms/step - loss: 0.4694 - accuracy: 0.6762 - val_loss: 0.5715 - val_accuracy: 0.6000\n",
      "Epoch 100/200\n",
      "105/105 [==============================] - 0s 3ms/step - loss: 0.4720 - accuracy: 0.5905 - val_loss: 0.5385 - val_accuracy: 0.6286\n",
      "Epoch 101/200\n",
      "105/105 [==============================] - 0s 3ms/step - loss: 0.4693 - accuracy: 0.7048 - val_loss: 0.5210 - val_accuracy: 0.6286\n",
      "Epoch 102/200\n",
      "105/105 [==============================] - 0s 3ms/step - loss: 0.4683 - accuracy: 0.6857 - val_loss: 0.5173 - val_accuracy: 0.6286\n",
      "Epoch 103/200\n",
      "105/105 [==============================] - 0s 3ms/step - loss: 0.4688 - accuracy: 0.7143 - val_loss: 0.5300 - val_accuracy: 0.6000\n",
      "Epoch 104/200\n",
      "105/105 [==============================] - 0s 3ms/step - loss: 0.4680 - accuracy: 0.7238 - val_loss: 0.5492 - val_accuracy: 0.6000\n",
      "Epoch 105/200\n",
      "105/105 [==============================] - 0s 3ms/step - loss: 0.4684 - accuracy: 0.6857 - val_loss: 0.5691 - val_accuracy: 0.6000\n",
      "Epoch 106/200\n",
      "105/105 [==============================] - 0s 3ms/step - loss: 0.4687 - accuracy: 0.6667 - val_loss: 0.5884 - val_accuracy: 0.6000\n",
      "Epoch 107/200\n",
      "105/105 [==============================] - 0s 3ms/step - loss: 0.4661 - accuracy: 0.6762 - val_loss: 0.6086 - val_accuracy: 0.6000\n",
      "Epoch 108/200\n",
      "105/105 [==============================] - 0s 3ms/step - loss: 0.4671 - accuracy: 0.6667 - val_loss: 0.6313 - val_accuracy: 0.6000\n",
      "Epoch 109/200\n",
      "105/105 [==============================] - 0s 3ms/step - loss: 0.4747 - accuracy: 0.7048 - val_loss: 0.6718 - val_accuracy: 0.6000\n",
      "Epoch 110/200\n",
      "105/105 [==============================] - 0s 3ms/step - loss: 0.4680 - accuracy: 0.6571 - val_loss: 0.7184 - val_accuracy: 0.6000\n",
      "Epoch 111/200\n",
      "105/105 [==============================] - 0s 3ms/step - loss: 0.4689 - accuracy: 0.6762 - val_loss: 0.7639 - val_accuracy: 0.6000\n",
      "Epoch 112/200\n",
      "105/105 [==============================] - 0s 3ms/step - loss: 0.4701 - accuracy: 0.6762 - val_loss: 0.8066 - val_accuracy: 0.6000\n",
      "Epoch 113/200\n",
      "105/105 [==============================] - 0s 3ms/step - loss: 0.4704 - accuracy: 0.6571 - val_loss: 0.8460 - val_accuracy: 0.6000\n",
      "Epoch 114/200\n",
      "105/105 [==============================] - 0s 3ms/step - loss: 0.4668 - accuracy: 0.6857 - val_loss: 0.8825 - val_accuracy: 0.6000\n"
     ]
    },
    {
     "name": "stdout",
     "output_type": "stream",
     "text": [
      "Epoch 115/200\n",
      "105/105 [==============================] - 0s 3ms/step - loss: 0.4672 - accuracy: 0.6762 - val_loss: 0.9168 - val_accuracy: 0.6000\n",
      "Epoch 116/200\n",
      "105/105 [==============================] - 0s 3ms/step - loss: 0.4644 - accuracy: 0.6952 - val_loss: 0.9497 - val_accuracy: 0.6000\n",
      "Epoch 117/200\n",
      "105/105 [==============================] - 0s 3ms/step - loss: 0.4688 - accuracy: 0.6667 - val_loss: 0.9812 - val_accuracy: 0.5714\n",
      "Epoch 118/200\n",
      "105/105 [==============================] - 0s 3ms/step - loss: 0.4651 - accuracy: 0.6857 - val_loss: 1.0114 - val_accuracy: 0.5714\n",
      "Epoch 119/200\n",
      "105/105 [==============================] - 0s 3ms/step - loss: 0.4697 - accuracy: 0.6762 - val_loss: 1.0393 - val_accuracy: 0.5714\n",
      "Epoch 120/200\n",
      "105/105 [==============================] - 0s 3ms/step - loss: 0.4675 - accuracy: 0.6571 - val_loss: 1.0608 - val_accuracy: 0.5714\n",
      "Epoch 121/200\n",
      "105/105 [==============================] - 0s 3ms/step - loss: 0.4630 - accuracy: 0.6857 - val_loss: 1.0809 - val_accuracy: 0.5714\n",
      "Epoch 122/200\n",
      "105/105 [==============================] - 0s 3ms/step - loss: 0.4711 - accuracy: 0.6667 - val_loss: 1.0989 - val_accuracy: 0.5714\n",
      "Epoch 123/200\n",
      "105/105 [==============================] - 0s 3ms/step - loss: 0.4756 - accuracy: 0.6286 - val_loss: 1.1145 - val_accuracy: 0.5714\n",
      "Epoch 124/200\n",
      "105/105 [==============================] - 0s 3ms/step - loss: 0.4655 - accuracy: 0.6952 - val_loss: 1.1289 - val_accuracy: 0.5714\n",
      "Epoch 125/200\n",
      "105/105 [==============================] - 0s 3ms/step - loss: 0.4701 - accuracy: 0.6476 - val_loss: 1.1416 - val_accuracy: 0.5714\n",
      "Epoch 126/200\n",
      "105/105 [==============================] - 0s 3ms/step - loss: 0.4671 - accuracy: 0.7048 - val_loss: 1.0920 - val_accuracy: 0.5714\n",
      "Epoch 127/200\n",
      "105/105 [==============================] - 0s 3ms/step - loss: 0.4706 - accuracy: 0.6667 - val_loss: 1.0484 - val_accuracy: 0.5714\n",
      "Epoch 128/200\n",
      "105/105 [==============================] - 0s 3ms/step - loss: 0.4658 - accuracy: 0.6762 - val_loss: 1.0114 - val_accuracy: 0.5714\n",
      "Epoch 129/200\n",
      "105/105 [==============================] - 0s 3ms/step - loss: 0.4682 - accuracy: 0.6952 - val_loss: 0.9795 - val_accuracy: 0.5714\n",
      "Epoch 130/200\n",
      "105/105 [==============================] - 0s 3ms/step - loss: 0.4686 - accuracy: 0.6762 - val_loss: 0.9510 - val_accuracy: 0.6000\n",
      "Epoch 131/200\n",
      "105/105 [==============================] - 0s 3ms/step - loss: 0.4680 - accuracy: 0.6381 - val_loss: 0.9255 - val_accuracy: 0.6000\n",
      "Epoch 132/200\n",
      "105/105 [==============================] - 0s 3ms/step - loss: 0.4702 - accuracy: 0.6762 - val_loss: 0.9024 - val_accuracy: 0.6000\n",
      "Epoch 133/200\n",
      "105/105 [==============================] - 0s 3ms/step - loss: 0.4675 - accuracy: 0.6952 - val_loss: 0.8819 - val_accuracy: 0.6000\n",
      "Epoch 134/200\n",
      "105/105 [==============================] - 0s 3ms/step - loss: 0.4728 - accuracy: 0.6571 - val_loss: 0.8634 - val_accuracy: 0.6000\n",
      "Epoch 135/200\n",
      "105/105 [==============================] - 0s 3ms/step - loss: 0.4684 - accuracy: 0.6476 - val_loss: 0.8468 - val_accuracy: 0.6000\n",
      "Epoch 136/200\n",
      "105/105 [==============================] - 0s 3ms/step - loss: 0.4705 - accuracy: 0.6571 - val_loss: 0.8317 - val_accuracy: 0.6000\n",
      "Epoch 137/200\n",
      "105/105 [==============================] - 0s 3ms/step - loss: 0.4718 - accuracy: 0.6381 - val_loss: 0.8175 - val_accuracy: 0.6000\n",
      "Epoch 138/200\n",
      "105/105 [==============================] - 0s 3ms/step - loss: 0.4704 - accuracy: 0.6857 - val_loss: 0.8047 - val_accuracy: 0.6000\n",
      "Epoch 139/200\n",
      "105/105 [==============================] - 0s 3ms/step - loss: 0.4683 - accuracy: 0.6857 - val_loss: 0.7938 - val_accuracy: 0.6000\n",
      "Epoch 140/200\n",
      "105/105 [==============================] - 0s 3ms/step - loss: 0.4652 - accuracy: 0.6762 - val_loss: 0.7842 - val_accuracy: 0.6000\n",
      "Epoch 141/200\n",
      "105/105 [==============================] - 0s 3ms/step - loss: 0.4642 - accuracy: 0.7429 - val_loss: 0.7758 - val_accuracy: 0.6000\n",
      "Epoch 142/200\n",
      "105/105 [==============================] - 0s 3ms/step - loss: 0.4680 - accuracy: 0.6571 - val_loss: 0.7684 - val_accuracy: 0.6000\n",
      "Epoch 143/200\n",
      "105/105 [==============================] - 0s 3ms/step - loss: 0.4706 - accuracy: 0.6762 - val_loss: 0.7614 - val_accuracy: 0.6000\n",
      "Epoch 144/200\n",
      "105/105 [==============================] - 0s 3ms/step - loss: 0.4700 - accuracy: 0.6762 - val_loss: 0.7551 - val_accuracy: 0.6000\n",
      "Epoch 145/200\n",
      "105/105 [==============================] - 0s 3ms/step - loss: 0.4663 - accuracy: 0.6952 - val_loss: 0.7496 - val_accuracy: 0.6000\n",
      "Epoch 146/200\n",
      "105/105 [==============================] - 0s 3ms/step - loss: 0.4689 - accuracy: 0.6857 - val_loss: 0.7447 - val_accuracy: 0.6000\n",
      "Epoch 147/200\n",
      "105/105 [==============================] - 0s 3ms/step - loss: 0.4702 - accuracy: 0.6762 - val_loss: 0.7399 - val_accuracy: 0.6000\n",
      "Epoch 148/200\n",
      "105/105 [==============================] - 0s 3ms/step - loss: 0.4686 - accuracy: 0.6667 - val_loss: 0.7357 - val_accuracy: 0.6000\n",
      "Epoch 149/200\n",
      "105/105 [==============================] - 0s 3ms/step - loss: 0.4668 - accuracy: 0.6857 - val_loss: 0.7320 - val_accuracy: 0.6000\n",
      "Epoch 150/200\n",
      "105/105 [==============================] - 0s 3ms/step - loss: 0.4713 - accuracy: 0.6857 - val_loss: 0.7285 - val_accuracy: 0.6000\n",
      "Epoch 151/200\n",
      "105/105 [==============================] - 0s 3ms/step - loss: 0.4682 - accuracy: 0.6857 - val_loss: 0.7254 - val_accuracy: 0.6000\n",
      "Epoch 152/200\n",
      "105/105 [==============================] - 0s 3ms/step - loss: 0.4684 - accuracy: 0.6857 - val_loss: 0.7244 - val_accuracy: 0.6000\n",
      "Epoch 153/200\n",
      "105/105 [==============================] - 0s 3ms/step - loss: 0.4657 - accuracy: 0.6762 - val_loss: 0.7239 - val_accuracy: 0.6000\n",
      "Epoch 154/200\n",
      "105/105 [==============================] - 0s 3ms/step - loss: 0.4700 - accuracy: 0.6667 - val_loss: 0.7234 - val_accuracy: 0.6000\n",
      "Epoch 155/200\n",
      "105/105 [==============================] - 0s 3ms/step - loss: 0.4675 - accuracy: 0.6952 - val_loss: 0.7234 - val_accuracy: 0.6000\n",
      "Epoch 156/200\n",
      "105/105 [==============================] - 0s 3ms/step - loss: 0.4685 - accuracy: 0.6762 - val_loss: 0.7235 - val_accuracy: 0.6000\n",
      "Epoch 157/200\n",
      "105/105 [==============================] - 0s 3ms/step - loss: 0.4670 - accuracy: 0.6762 - val_loss: 0.7244 - val_accuracy: 0.6000\n",
      "Epoch 158/200\n",
      "105/105 [==============================] - 0s 3ms/step - loss: 0.4679 - accuracy: 0.6762 - val_loss: 0.7251 - val_accuracy: 0.6000\n",
      "Epoch 159/200\n",
      "105/105 [==============================] - 0s 3ms/step - loss: 0.4675 - accuracy: 0.6762 - val_loss: 0.7283 - val_accuracy: 0.6000\n",
      "Epoch 160/200\n",
      "105/105 [==============================] - 0s 3ms/step - loss: 0.4701 - accuracy: 0.6571 - val_loss: 0.7312 - val_accuracy: 0.6000\n",
      "Epoch 161/200\n",
      "105/105 [==============================] - 0s 3ms/step - loss: 0.4689 - accuracy: 0.6762 - val_loss: 0.7339 - val_accuracy: 0.6000\n",
      "Epoch 162/200\n",
      "105/105 [==============================] - 0s 3ms/step - loss: 0.4688 - accuracy: 0.6762 - val_loss: 0.7364 - val_accuracy: 0.6000\n",
      "Epoch 163/200\n",
      "105/105 [==============================] - 0s 3ms/step - loss: 0.4686 - accuracy: 0.6762 - val_loss: 0.7388 - val_accuracy: 0.6000\n",
      "Epoch 164/200\n",
      "105/105 [==============================] - 0s 3ms/step - loss: 0.4658 - accuracy: 0.6762 - val_loss: 0.7413 - val_accuracy: 0.6000\n",
      "Epoch 165/200\n",
      "105/105 [==============================] - 0s 3ms/step - loss: 0.4665 - accuracy: 0.6857 - val_loss: 0.7441 - val_accuracy: 0.6000\n",
      "Epoch 166/200\n",
      "105/105 [==============================] - 0s 3ms/step - loss: 0.4680 - accuracy: 0.6857 - val_loss: 0.7466 - val_accuracy: 0.6000\n",
      "Epoch 167/200\n",
      "105/105 [==============================] - 0s 3ms/step - loss: 0.4657 - accuracy: 0.6667 - val_loss: 0.7490 - val_accuracy: 0.6000\n",
      "Epoch 168/200\n",
      "105/105 [==============================] - 0s 3ms/step - loss: 0.4673 - accuracy: 0.6762 - val_loss: 0.7514 - val_accuracy: 0.6000\n",
      "Epoch 169/200\n",
      "105/105 [==============================] - 0s 3ms/step - loss: 0.4667 - accuracy: 0.6857 - val_loss: 0.7537 - val_accuracy: 0.6000\n",
      "Epoch 170/200\n",
      "105/105 [==============================] - 0s 3ms/step - loss: 0.4680 - accuracy: 0.6667 - val_loss: 0.7556 - val_accuracy: 0.6000\n",
      "Epoch 171/200\n",
      "105/105 [==============================] - 0s 3ms/step - loss: 0.4692 - accuracy: 0.6667 - val_loss: 0.7574 - val_accuracy: 0.6000\n"
     ]
    },
    {
     "name": "stdout",
     "output_type": "stream",
     "text": [
      "Epoch 172/200\n",
      "105/105 [==============================] - 0s 3ms/step - loss: 0.4663 - accuracy: 0.6762 - val_loss: 0.7592 - val_accuracy: 0.6000\n",
      "Epoch 173/200\n",
      "105/105 [==============================] - 0s 3ms/step - loss: 0.4683 - accuracy: 0.6667 - val_loss: 0.7609 - val_accuracy: 0.6000\n",
      "Epoch 174/200\n",
      "105/105 [==============================] - 0s 3ms/step - loss: 0.4680 - accuracy: 0.6762 - val_loss: 0.7624 - val_accuracy: 0.6000\n",
      "Epoch 175/200\n",
      "105/105 [==============================] - 0s 3ms/step - loss: 0.4616 - accuracy: 0.6762 - val_loss: 0.7643 - val_accuracy: 0.6000\n",
      "Epoch 176/200\n",
      "105/105 [==============================] - 0s 3ms/step - loss: 0.4660 - accuracy: 0.6857 - val_loss: 0.7664 - val_accuracy: 0.6000\n",
      "Epoch 177/200\n",
      "105/105 [==============================] - 0s 3ms/step - loss: 0.4651 - accuracy: 0.6857 - val_loss: 0.7684 - val_accuracy: 0.6000\n",
      "Epoch 178/200\n",
      "105/105 [==============================] - 0s 3ms/step - loss: 0.4651 - accuracy: 0.6857 - val_loss: 0.7706 - val_accuracy: 0.6000\n",
      "Epoch 179/200\n",
      "105/105 [==============================] - 0s 3ms/step - loss: 0.4707 - accuracy: 0.6667 - val_loss: 0.7724 - val_accuracy: 0.6000\n",
      "Epoch 180/200\n",
      "105/105 [==============================] - 0s 3ms/step - loss: 0.4689 - accuracy: 0.6762 - val_loss: 0.7740 - val_accuracy: 0.6000\n",
      "Epoch 181/200\n",
      "105/105 [==============================] - 0s 3ms/step - loss: 0.4710 - accuracy: 0.6667 - val_loss: 0.7753 - val_accuracy: 0.6000\n",
      "Epoch 182/200\n",
      "105/105 [==============================] - 0s 3ms/step - loss: 0.4663 - accuracy: 0.6762 - val_loss: 0.7776 - val_accuracy: 0.6000\n",
      "Epoch 183/200\n",
      "105/105 [==============================] - 0s 3ms/step - loss: 0.4657 - accuracy: 0.7143 - val_loss: 0.7802 - val_accuracy: 0.6000\n",
      "Epoch 184/200\n",
      "105/105 [==============================] - 0s 3ms/step - loss: 0.4652 - accuracy: 0.6857 - val_loss: 0.7828 - val_accuracy: 0.6000\n",
      "Epoch 185/200\n",
      "105/105 [==============================] - 0s 3ms/step - loss: 0.4721 - accuracy: 0.6476 - val_loss: 0.7848 - val_accuracy: 0.6000\n",
      "Epoch 186/200\n",
      "105/105 [==============================] - 0s 3ms/step - loss: 0.4665 - accuracy: 0.6762 - val_loss: 0.7868 - val_accuracy: 0.6000\n",
      "Epoch 187/200\n",
      "105/105 [==============================] - 0s 3ms/step - loss: 0.4660 - accuracy: 0.6952 - val_loss: 0.7889 - val_accuracy: 0.6000\n",
      "Epoch 188/200\n",
      "105/105 [==============================] - 0s 3ms/step - loss: 0.4673 - accuracy: 0.6476 - val_loss: 0.7910 - val_accuracy: 0.6000\n",
      "Epoch 189/200\n",
      "105/105 [==============================] - 0s 3ms/step - loss: 0.4649 - accuracy: 0.7333 - val_loss: 0.7933 - val_accuracy: 0.6000\n",
      "Epoch 190/200\n",
      "105/105 [==============================] - 0s 3ms/step - loss: 0.4659 - accuracy: 0.6857 - val_loss: 0.7951 - val_accuracy: 0.6000\n",
      "Epoch 191/200\n",
      "105/105 [==============================] - 0s 3ms/step - loss: 0.4618 - accuracy: 0.6857 - val_loss: 0.7971 - val_accuracy: 0.6000\n",
      "Epoch 192/200\n",
      "105/105 [==============================] - 0s 3ms/step - loss: 0.4678 - accuracy: 0.6952 - val_loss: 0.7989 - val_accuracy: 0.6000\n",
      "Epoch 193/200\n",
      "105/105 [==============================] - 0s 3ms/step - loss: 0.4747 - accuracy: 0.6762 - val_loss: 0.8000 - val_accuracy: 0.6000\n",
      "Epoch 194/200\n",
      "105/105 [==============================] - 0s 3ms/step - loss: 0.4687 - accuracy: 0.6667 - val_loss: 0.8012 - val_accuracy: 0.6000\n",
      "Epoch 195/200\n",
      "105/105 [==============================] - 0s 3ms/step - loss: 0.4694 - accuracy: 0.6571 - val_loss: 0.8021 - val_accuracy: 0.6000\n",
      "Epoch 196/200\n",
      "105/105 [==============================] - 0s 3ms/step - loss: 0.4707 - accuracy: 0.6476 - val_loss: 0.8028 - val_accuracy: 0.6000\n",
      "Epoch 197/200\n",
      "105/105 [==============================] - 0s 3ms/step - loss: 0.4733 - accuracy: 0.6286 - val_loss: 0.8035 - val_accuracy: 0.6000\n",
      "Epoch 198/200\n",
      "105/105 [==============================] - 0s 3ms/step - loss: 0.4705 - accuracy: 0.6667 - val_loss: 0.8039 - val_accuracy: 0.6000\n",
      "Epoch 199/200\n",
      "105/105 [==============================] - 0s 3ms/step - loss: 0.4733 - accuracy: 0.6190 - val_loss: 0.8042 - val_accuracy: 0.6000\n",
      "Epoch 200/200\n",
      "105/105 [==============================] - 0s 3ms/step - loss: 0.4701 - accuracy: 0.6476 - val_loss: 0.8044 - val_accuracy: 0.6000\n"
     ]
    }
   ],
   "source": [
    "# compiling the sequential model\n",
    "# opt1 = keras.optimizers.RMSprop(lr=0.001, rho=0.9, epsilon=1e-08, decay=decay_rate)\n",
    "opt = adam(lr=learning_rate, decay=decay_rate, beta_1=0.9, beta_2=0.999, epsilon=1e-08)\n",
    "model.compile(loss='categorical_crossentropy', metrics=['accuracy'], optimizer=opt)\n",
    "\n",
    "# training the model for 100 epochs\n",
    "history=model.fit(x_train, y_train, batch_size=128, epochs=epochs, validation_data=(x_test, y_test))"
   ]
  },
  {
   "cell_type": "code",
   "execution_count": 23,
   "metadata": {},
   "outputs": [
    {
     "data": {
      "text/plain": [
       "<matplotlib.legend.Legend at 0x1ebd865e0c8>"
      ]
     },
     "execution_count": 23,
     "metadata": {},
     "output_type": "execute_result"
    },
    {
     "data": {
      "image/png": "[encoded data removed]",
      "text/plain": [
       "<Figure size 432x288 with 1 Axes>"
      ]
     },
     "metadata": {
      "needs_background": "light"
     },
     "output_type": "display_data"
    }
   ],
   "source": [
    "plt.plot(history.history['accuracy'], label='accuracy')\n",
    "plt.plot(history.history['val_accuracy'], label = 'val_accuracy')\n",
    "plt.xlabel('Epoch')\n",
    "plt.ylabel('Accuracy')\n",
    "plt.ylim([0.5, 1])\n",
    "plt.legend(loc='lower right')"
   ]
  },
  {
   "cell_type": "code",
   "execution_count": 24,
   "metadata": {},
   "outputs": [
    {
     "name": "stdout",
     "output_type": "stream",
     "text": [
      "Loss: 0.1688 - val_loss: 0.2199\n"
     ]
    }
   ],
   "source": [
    "y_train_pred = model.predict(x_train)\n",
    "y_test_pred = model.predict(x_test)\n",
    "\n",
    "mse_train = ((y_train_pred - y_train) ** 2).mean()\n",
    "mse_test = ((y_test_pred - y_test) ** 2).mean()\n",
    "print(\"Loss: %5.4f - val_loss: %5.4f\" % (mse_train, mse_test))"
   ]
  },
  {
   "cell_type": "code",
   "execution_count": 25,
   "metadata": {},
   "outputs": [
    {
     "name": "stdout",
     "output_type": "stream",
     "text": [
      "[0 0 0 0 0 1 0 0 0 0 0 0 0 1 0 0 0 0 0 1 1 1 0 0 0 0 0 0 0 0 0 0 0 0 1]\n"
     ]
    }
   ],
   "source": [
    "y_pred = model.predict(x_test)\n",
    "y_classes_pred = y_pred.argmax(axis=-1)\n",
    "print(y_classes_pred)"
   ]
  },
  {
   "cell_type": "code",
   "execution_count": 26,
   "metadata": {},
   "outputs": [],
   "source": [
    "y_classes_test = y_test.argmax(axis=-1)"
   ]
  },
  {
   "cell_type": "code",
   "execution_count": 27,
   "metadata": {},
   "outputs": [
    {
     "name": "stdout",
     "output_type": "stream",
     "text": [
      "[[1.0000000e+00 4.1820588e-33]\n",
      " [5.1055807e-01 4.8944193e-01]\n",
      " [5.1055813e-01 4.8944187e-01]\n",
      " [5.1055813e-01 4.8944187e-01]\n",
      " [5.1055813e-01 4.8944190e-01]\n",
      " [1.7592332e-27 1.0000000e+00]\n",
      " [5.1055807e-01 4.8944193e-01]\n",
      " [5.1055807e-01 4.8944199e-01]\n",
      " [5.1055813e-01 4.8944193e-01]\n",
      " [1.0000000e+00 0.0000000e+00]\n",
      " [5.1055813e-01 4.8944190e-01]\n",
      " [5.1055813e-01 4.8944187e-01]\n",
      " [5.1055807e-01 4.8944193e-01]\n",
      " [6.2126904e-10 1.0000000e+00]\n",
      " [1.0000000e+00 7.7441959e-30]\n",
      " [5.1055801e-01 4.8944196e-01]\n",
      " [1.0000000e+00 2.8265515e-10]\n",
      " [9.9717414e-01 2.8258222e-03]\n",
      " [1.0000000e+00 6.8614274e-36]\n",
      " [1.1880449e-01 8.8119555e-01]\n",
      " [5.0586939e-04 9.9949408e-01]\n",
      " [3.0924585e-01 6.9075412e-01]\n",
      " [5.1055813e-01 4.8944187e-01]\n",
      " [5.1055807e-01 4.8944193e-01]\n",
      " [5.1055813e-01 4.8944187e-01]\n",
      " [5.1055813e-01 4.8944193e-01]\n",
      " [5.1055777e-01 4.8944223e-01]\n",
      " [5.1055813e-01 4.8944187e-01]\n",
      " [9.8673707e-01 1.3262976e-02]\n",
      " [5.1055813e-01 4.8944187e-01]\n",
      " [1.0000000e+00 2.5743591e-11]\n",
      " [5.1055813e-01 4.8944190e-01]\n",
      " [7.7517098e-01 2.2482906e-01]\n",
      " [9.9812573e-01 1.8742353e-03]\n",
      " [9.1761841e-27 1.0000000e+00]]\n"
     ]
    }
   ],
   "source": [
    "print(model.predict(x_test))"
   ]
  },
  {
   "cell_type": "code",
   "execution_count": 28,
   "metadata": {},
   "outputs": [
    {
     "data": {
      "text/plain": [
       "array([[16,  1],\n",
       "       [13,  5]], dtype=int64)"
      ]
     },
     "execution_count": 28,
     "metadata": {},
     "output_type": "execute_result"
    }
   ],
   "source": [
    "confusion_matrix(y_classes_test, y_classes_pred)"
   ]
  },
  {
   "cell_type": "code",
   "execution_count": 29,
   "metadata": {},
   "outputs": [
    {
     "data": {
      "text/plain": [
       "0.6"
      ]
     },
     "execution_count": 29,
     "metadata": {},
     "output_type": "execute_result"
    }
   ],
   "source": [
    "accuracy_score(y_classes_test, y_classes_pred)"
   ]
  },
  {
   "cell_type": "code",
   "execution_count": null,
   "metadata": {},
   "outputs": [],
   "source": []
  }
 ],
 "metadata": {
  "kernelspec": {
   "display_name": "Python 3",
   "language": "python",
   "name": "python3"
  },
  "language_info": {
   "codemirror_mode": {
    "name": "ipython",
    "version": 3
   },
   "file_extension": ".py",
   "mimetype": "text/x-python",
   "name": "python",
   "nbconvert_exporter": "python",
   "pygments_lexer": "ipython3",
   "version": "3.7.4"
  }
 },
 "nbformat": 4,
 "nbformat_minor": 2
}
